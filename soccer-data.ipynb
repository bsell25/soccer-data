{
 "cells": [
  {
   "cell_type": "code",
   "execution_count": 98,
   "metadata": {},
   "outputs": [],
   "source": [
    "# Clear the workspace\n",
    "rm(list = ls())\n",
    "\n",
    "# Load libraries\n",
    "library(tidyverse)\n",
    "library(stringr)\n",
    "library(lubridate)\n",
    "library(engsoccerdata)"
   ]
  },
  {
   "cell_type": "code",
   "execution_count": 99,
   "metadata": {},
   "outputs": [
    {
     "data": {
      "text/html": [
       "<table>\n",
       "<thead><tr><th scope=col>Date</th><th scope=col>Season</th><th scope=col>home</th><th scope=col>visitor</th><th scope=col>FT</th><th scope=col>hgoal</th><th scope=col>vgoal</th><th scope=col>division</th><th scope=col>tier</th><th scope=col>totgoal</th><th scope=col>goaldif</th><th scope=col>result</th></tr></thead>\n",
       "<tbody>\n",
       "\t<tr><td>1888-12-15      </td><td>1888            </td><td>Accrington F.C. </td><td>Aston Villa     </td><td>1-1             </td><td>1               </td><td>1               </td><td>1               </td><td>1               </td><td>2               </td><td> 0              </td><td>D               </td></tr>\n",
       "\t<tr><td>1889-01-19      </td><td>1888            </td><td>Accrington F.C. </td><td>Blackburn Rovers</td><td>0-2             </td><td>0               </td><td>2               </td><td>1               </td><td>1               </td><td>2               </td><td>-2              </td><td>A               </td></tr>\n",
       "\t<tr><td>1889-03-23      </td><td>1888            </td><td>Accrington F.C. </td><td>Bolton Wanderers</td><td>2-3             </td><td>2               </td><td>3               </td><td>1               </td><td>1               </td><td>5               </td><td>-1              </td><td>A               </td></tr>\n",
       "\t<tr><td>1888-12-01      </td><td>1888            </td><td>Accrington F.C. </td><td>Burnley         </td><td>5-1             </td><td>5               </td><td>1               </td><td>1               </td><td>1               </td><td>6               </td><td> 4              </td><td>H               </td></tr>\n",
       "\t<tr><td>1888-10-13      </td><td>1888            </td><td>Accrington F.C. </td><td>Derby County    </td><td>6-2             </td><td>6               </td><td>2               </td><td>1               </td><td>1               </td><td>8               </td><td> 4              </td><td>H               </td></tr>\n",
       "</tbody>\n",
       "</table>\n"
      ],
      "text/latex": [
       "\\begin{tabular}{r|llllllllllll}\n",
       " Date & Season & home & visitor & FT & hgoal & vgoal & division & tier & totgoal & goaldif & result\\\\\n",
       "\\hline\n",
       "\t 1888-12-15       & 1888             & Accrington F.C.  & Aston Villa      & 1-1              & 1                & 1                & 1                & 1                & 2                &  0               & D               \\\\\n",
       "\t 1889-01-19       & 1888             & Accrington F.C.  & Blackburn Rovers & 0-2              & 0                & 2                & 1                & 1                & 2                & -2               & A               \\\\\n",
       "\t 1889-03-23       & 1888             & Accrington F.C.  & Bolton Wanderers & 2-3              & 2                & 3                & 1                & 1                & 5                & -1               & A               \\\\\n",
       "\t 1888-12-01       & 1888             & Accrington F.C.  & Burnley          & 5-1              & 5                & 1                & 1                & 1                & 6                &  4               & H               \\\\\n",
       "\t 1888-10-13       & 1888             & Accrington F.C.  & Derby County     & 6-2              & 6                & 2                & 1                & 1                & 8                &  4               & H               \\\\\n",
       "\\end{tabular}\n"
      ],
      "text/markdown": [
       "\n",
       "Date | Season | home | visitor | FT | hgoal | vgoal | division | tier | totgoal | goaldif | result | \n",
       "|---|---|---|---|---|\n",
       "| 1888-12-15       | 1888             | Accrington F.C.  | Aston Villa      | 1-1              | 1                | 1                | 1                | 1                | 2                |  0               | D                | \n",
       "| 1889-01-19       | 1888             | Accrington F.C.  | Blackburn Rovers | 0-2              | 0                | 2                | 1                | 1                | 2                | -2               | A                | \n",
       "| 1889-03-23       | 1888             | Accrington F.C.  | Bolton Wanderers | 2-3              | 2                | 3                | 1                | 1                | 5                | -1               | A                | \n",
       "| 1888-12-01       | 1888             | Accrington F.C.  | Burnley          | 5-1              | 5                | 1                | 1                | 1                | 6                |  4               | H                | \n",
       "| 1888-10-13       | 1888             | Accrington F.C.  | Derby County     | 6-2              | 6                | 2                | 1                | 1                | 8                |  4               | H                | \n",
       "\n",
       "\n"
      ],
      "text/plain": [
       "  Date       Season home            visitor          FT  hgoal vgoal division\n",
       "1 1888-12-15 1888   Accrington F.C. Aston Villa      1-1 1     1     1       \n",
       "2 1889-01-19 1888   Accrington F.C. Blackburn Rovers 0-2 0     2     1       \n",
       "3 1889-03-23 1888   Accrington F.C. Bolton Wanderers 2-3 2     3     1       \n",
       "4 1888-12-01 1888   Accrington F.C. Burnley          5-1 5     1     1       \n",
       "5 1888-10-13 1888   Accrington F.C. Derby County     6-2 6     2     1       \n",
       "  tier totgoal goaldif result\n",
       "1 1    2        0      D     \n",
       "2 1    2       -2      A     \n",
       "3 1    5       -1      A     \n",
       "4 1    6        4      H     \n",
       "5 1    8        4      H     "
      ]
     },
     "metadata": {},
     "output_type": "display_data"
    }
   ],
   "source": [
    "# Store EPL data\n",
    "epl <- as_tibble(engsoccerdata::england)\n",
    "\n",
    "# Take a look at the first 10 rows\n",
    "epl[1:5,]"
   ]
  },
  {
   "cell_type": "markdown",
   "metadata": {},
   "source": [
    "Before doing any more wrangling, let's create ID variables for each piece of information that may come in useful later. We'll create two ID sets: for matches and teams."
   ]
  },
  {
   "cell_type": "code",
   "execution_count": 100,
   "metadata": {},
   "outputs": [
    {
     "data": {
      "text/html": [
       "<table>\n",
       "<thead><tr><th scope=col>Date</th><th scope=col>Season</th><th scope=col>home</th><th scope=col>visitor</th><th scope=col>FT</th><th scope=col>hgoal</th><th scope=col>vgoal</th><th scope=col>division</th><th scope=col>tier</th><th scope=col>totgoal</th><th scope=col>goaldif</th><th scope=col>result</th><th scope=col>match_id</th></tr></thead>\n",
       "<tbody>\n",
       "\t<tr><td>1888-12-15      </td><td>1888            </td><td>Accrington F.C. </td><td>Aston Villa     </td><td>1-1             </td><td>1               </td><td>1               </td><td>1               </td><td>1               </td><td>2               </td><td> 0              </td><td>D               </td><td>1               </td></tr>\n",
       "\t<tr><td>1889-01-19      </td><td>1888            </td><td>Accrington F.C. </td><td>Blackburn Rovers</td><td>0-2             </td><td>0               </td><td>2               </td><td>1               </td><td>1               </td><td>2               </td><td>-2              </td><td>A               </td><td>2               </td></tr>\n",
       "\t<tr><td>1889-03-23      </td><td>1888            </td><td>Accrington F.C. </td><td>Bolton Wanderers</td><td>2-3             </td><td>2               </td><td>3               </td><td>1               </td><td>1               </td><td>5               </td><td>-1              </td><td>A               </td><td>3               </td></tr>\n",
       "\t<tr><td>1888-12-01      </td><td>1888            </td><td>Accrington F.C. </td><td>Burnley         </td><td>5-1             </td><td>5               </td><td>1               </td><td>1               </td><td>1               </td><td>6               </td><td> 4              </td><td>H               </td><td>4               </td></tr>\n",
       "\t<tr><td>1888-10-13      </td><td>1888            </td><td>Accrington F.C. </td><td>Derby County    </td><td>6-2             </td><td>6               </td><td>2               </td><td>1               </td><td>1               </td><td>8               </td><td> 4              </td><td>H               </td><td>5               </td></tr>\n",
       "</tbody>\n",
       "</table>\n"
      ],
      "text/latex": [
       "\\begin{tabular}{r|lllllllllllll}\n",
       " Date & Season & home & visitor & FT & hgoal & vgoal & division & tier & totgoal & goaldif & result & match\\_id\\\\\n",
       "\\hline\n",
       "\t 1888-12-15       & 1888             & Accrington F.C.  & Aston Villa      & 1-1              & 1                & 1                & 1                & 1                & 2                &  0               & D                & 1               \\\\\n",
       "\t 1889-01-19       & 1888             & Accrington F.C.  & Blackburn Rovers & 0-2              & 0                & 2                & 1                & 1                & 2                & -2               & A                & 2               \\\\\n",
       "\t 1889-03-23       & 1888             & Accrington F.C.  & Bolton Wanderers & 2-3              & 2                & 3                & 1                & 1                & 5                & -1               & A                & 3               \\\\\n",
       "\t 1888-12-01       & 1888             & Accrington F.C.  & Burnley          & 5-1              & 5                & 1                & 1                & 1                & 6                &  4               & H                & 4               \\\\\n",
       "\t 1888-10-13       & 1888             & Accrington F.C.  & Derby County     & 6-2              & 6                & 2                & 1                & 1                & 8                &  4               & H                & 5               \\\\\n",
       "\\end{tabular}\n"
      ],
      "text/markdown": [
       "\n",
       "Date | Season | home | visitor | FT | hgoal | vgoal | division | tier | totgoal | goaldif | result | match_id | \n",
       "|---|---|---|---|---|\n",
       "| 1888-12-15       | 1888             | Accrington F.C.  | Aston Villa      | 1-1              | 1                | 1                | 1                | 1                | 2                |  0               | D                | 1                | \n",
       "| 1889-01-19       | 1888             | Accrington F.C.  | Blackburn Rovers | 0-2              | 0                | 2                | 1                | 1                | 2                | -2               | A                | 2                | \n",
       "| 1889-03-23       | 1888             | Accrington F.C.  | Bolton Wanderers | 2-3              | 2                | 3                | 1                | 1                | 5                | -1               | A                | 3                | \n",
       "| 1888-12-01       | 1888             | Accrington F.C.  | Burnley          | 5-1              | 5                | 1                | 1                | 1                | 6                |  4               | H                | 4                | \n",
       "| 1888-10-13       | 1888             | Accrington F.C.  | Derby County     | 6-2              | 6                | 2                | 1                | 1                | 8                |  4               | H                | 5                | \n",
       "\n",
       "\n"
      ],
      "text/plain": [
       "  Date       Season home            visitor          FT  hgoal vgoal division\n",
       "1 1888-12-15 1888   Accrington F.C. Aston Villa      1-1 1     1     1       \n",
       "2 1889-01-19 1888   Accrington F.C. Blackburn Rovers 0-2 0     2     1       \n",
       "3 1889-03-23 1888   Accrington F.C. Bolton Wanderers 2-3 2     3     1       \n",
       "4 1888-12-01 1888   Accrington F.C. Burnley          5-1 5     1     1       \n",
       "5 1888-10-13 1888   Accrington F.C. Derby County     6-2 6     2     1       \n",
       "  tier totgoal goaldif result match_id\n",
       "1 1    2        0      D      1       \n",
       "2 1    2       -2      A      2       \n",
       "3 1    5       -1      A      3       \n",
       "4 1    6        4      H      4       \n",
       "5 1    8        4      H      5       "
      ]
     },
     "metadata": {},
     "output_type": "display_data"
    }
   ],
   "source": [
    "# Create a team ID\n",
    "epl1 <- epl %>%\n",
    "       unique(.) %>%\n",
    "       mutate(\n",
    "             \n",
    "           match_id = seq(1:nrow(.))\n",
    "        )\n",
    "\n",
    "# Take a look\n",
    "epl1[1:5,]"
   ]
  },
  {
   "cell_type": "code",
   "execution_count": 101,
   "metadata": {},
   "outputs": [
    {
     "data": {
      "text/html": [
       "<table>\n",
       "<thead><tr><th scope=col>home</th><th scope=col>team_id</th></tr></thead>\n",
       "<tbody>\n",
       "\t<tr><td>Accrington F.C. </td><td>1               </td></tr>\n",
       "\t<tr><td>Aston Villa     </td><td>2               </td></tr>\n",
       "\t<tr><td>Blackburn Rovers</td><td>3               </td></tr>\n",
       "\t<tr><td>Bolton Wanderers</td><td>4               </td></tr>\n",
       "\t<tr><td>Burnley         </td><td>5               </td></tr>\n",
       "</tbody>\n",
       "</table>\n"
      ],
      "text/latex": [
       "\\begin{tabular}{r|ll}\n",
       " home & team\\_id\\\\\n",
       "\\hline\n",
       "\t Accrington F.C.  & 1               \\\\\n",
       "\t Aston Villa      & 2               \\\\\n",
       "\t Blackburn Rovers & 3               \\\\\n",
       "\t Bolton Wanderers & 4               \\\\\n",
       "\t Burnley          & 5               \\\\\n",
       "\\end{tabular}\n"
      ],
      "text/markdown": [
       "\n",
       "home | team_id | \n",
       "|---|---|---|---|---|\n",
       "| Accrington F.C.  | 1                | \n",
       "| Aston Villa      | 2                | \n",
       "| Blackburn Rovers | 3                | \n",
       "| Bolton Wanderers | 4                | \n",
       "| Burnley          | 5                | \n",
       "\n",
       "\n"
      ],
      "text/plain": [
       "  home             team_id\n",
       "1 Accrington F.C.  1      \n",
       "2 Aston Villa      2      \n",
       "3 Blackburn Rovers 3      \n",
       "4 Bolton Wanderers 4      \n",
       "5 Burnley          5      "
      ]
     },
     "metadata": {},
     "output_type": "display_data"
    }
   ],
   "source": [
    "# Create a team list\n",
    "team_list <- epl1 %>%\n",
    "             select(home) %>%\n",
    "             unique(.) %>%\n",
    "             mutate(\n",
    "                \n",
    "                team_id = seq_along(home),\n",
    "                 \n",
    "             )\n",
    "\n",
    "# Take a look\n",
    "team_list[1:5,]"
   ]
  },
  {
   "cell_type": "code",
   "execution_count": 102,
   "metadata": {},
   "outputs": [
    {
     "name": "stderr",
     "output_type": "stream",
     "text": [
      "Joining, by = \"home\"\n"
     ]
    },
    {
     "data": {
      "text/html": [
       "<table>\n",
       "<thead><tr><th scope=col>Date</th><th scope=col>Season</th><th scope=col>home</th><th scope=col>visitor</th><th scope=col>FT</th><th scope=col>hgoal</th><th scope=col>vgoal</th><th scope=col>division</th><th scope=col>tier</th><th scope=col>totgoal</th><th scope=col>goaldif</th><th scope=col>result</th><th scope=col>match_id</th><th scope=col>team_id</th></tr></thead>\n",
       "<tbody>\n",
       "\t<tr><td>1888-12-15      </td><td>1888            </td><td>Accrington F.C. </td><td>Aston Villa     </td><td>1-1             </td><td>1               </td><td>1               </td><td>1               </td><td>1               </td><td>2               </td><td> 0              </td><td>D               </td><td>1               </td><td>1               </td></tr>\n",
       "\t<tr><td>1889-01-19      </td><td>1888            </td><td>Accrington F.C. </td><td>Blackburn Rovers</td><td>0-2             </td><td>0               </td><td>2               </td><td>1               </td><td>1               </td><td>2               </td><td>-2              </td><td>A               </td><td>2               </td><td>1               </td></tr>\n",
       "\t<tr><td>1889-03-23      </td><td>1888            </td><td>Accrington F.C. </td><td>Bolton Wanderers</td><td>2-3             </td><td>2               </td><td>3               </td><td>1               </td><td>1               </td><td>5               </td><td>-1              </td><td>A               </td><td>3               </td><td>1               </td></tr>\n",
       "\t<tr><td>1888-12-01      </td><td>1888            </td><td>Accrington F.C. </td><td>Burnley         </td><td>5-1             </td><td>5               </td><td>1               </td><td>1               </td><td>1               </td><td>6               </td><td> 4              </td><td>H               </td><td>4               </td><td>1               </td></tr>\n",
       "\t<tr><td>1888-10-13      </td><td>1888            </td><td>Accrington F.C. </td><td>Derby County    </td><td>6-2             </td><td>6               </td><td>2               </td><td>1               </td><td>1               </td><td>8               </td><td> 4              </td><td>H               </td><td>5               </td><td>1               </td></tr>\n",
       "</tbody>\n",
       "</table>\n"
      ],
      "text/latex": [
       "\\begin{tabular}{r|llllllllllllll}\n",
       " Date & Season & home & visitor & FT & hgoal & vgoal & division & tier & totgoal & goaldif & result & match\\_id & team\\_id\\\\\n",
       "\\hline\n",
       "\t 1888-12-15       & 1888             & Accrington F.C.  & Aston Villa      & 1-1              & 1                & 1                & 1                & 1                & 2                &  0               & D                & 1                & 1               \\\\\n",
       "\t 1889-01-19       & 1888             & Accrington F.C.  & Blackburn Rovers & 0-2              & 0                & 2                & 1                & 1                & 2                & -2               & A                & 2                & 1               \\\\\n",
       "\t 1889-03-23       & 1888             & Accrington F.C.  & Bolton Wanderers & 2-3              & 2                & 3                & 1                & 1                & 5                & -1               & A                & 3                & 1               \\\\\n",
       "\t 1888-12-01       & 1888             & Accrington F.C.  & Burnley          & 5-1              & 5                & 1                & 1                & 1                & 6                &  4               & H                & 4                & 1               \\\\\n",
       "\t 1888-10-13       & 1888             & Accrington F.C.  & Derby County     & 6-2              & 6                & 2                & 1                & 1                & 8                &  4               & H                & 5                & 1               \\\\\n",
       "\\end{tabular}\n"
      ],
      "text/markdown": [
       "\n",
       "Date | Season | home | visitor | FT | hgoal | vgoal | division | tier | totgoal | goaldif | result | match_id | team_id | \n",
       "|---|---|---|---|---|\n",
       "| 1888-12-15       | 1888             | Accrington F.C.  | Aston Villa      | 1-1              | 1                | 1                | 1                | 1                | 2                |  0               | D                | 1                | 1                | \n",
       "| 1889-01-19       | 1888             | Accrington F.C.  | Blackburn Rovers | 0-2              | 0                | 2                | 1                | 1                | 2                | -2               | A                | 2                | 1                | \n",
       "| 1889-03-23       | 1888             | Accrington F.C.  | Bolton Wanderers | 2-3              | 2                | 3                | 1                | 1                | 5                | -1               | A                | 3                | 1                | \n",
       "| 1888-12-01       | 1888             | Accrington F.C.  | Burnley          | 5-1              | 5                | 1                | 1                | 1                | 6                |  4               | H                | 4                | 1                | \n",
       "| 1888-10-13       | 1888             | Accrington F.C.  | Derby County     | 6-2              | 6                | 2                | 1                | 1                | 8                |  4               | H                | 5                | 1                | \n",
       "\n",
       "\n"
      ],
      "text/plain": [
       "  Date       Season home            visitor          FT  hgoal vgoal division\n",
       "1 1888-12-15 1888   Accrington F.C. Aston Villa      1-1 1     1     1       \n",
       "2 1889-01-19 1888   Accrington F.C. Blackburn Rovers 0-2 0     2     1       \n",
       "3 1889-03-23 1888   Accrington F.C. Bolton Wanderers 2-3 2     3     1       \n",
       "4 1888-12-01 1888   Accrington F.C. Burnley          5-1 5     1     1       \n",
       "5 1888-10-13 1888   Accrington F.C. Derby County     6-2 6     2     1       \n",
       "  tier totgoal goaldif result match_id team_id\n",
       "1 1    2        0      D      1        1      \n",
       "2 1    2       -2      A      2        1      \n",
       "3 1    5       -1      A      3        1      \n",
       "4 1    6        4      H      4        1      \n",
       "5 1    8        4      H      5        1      "
      ]
     },
     "metadata": {},
     "output_type": "display_data"
    }
   ],
   "source": [
    "# Join them up\n",
    "epl <- inner_join(epl1, team_list)\n",
    "\n",
    "# Take a look\n",
    "epl[1:5,]"
   ]
  },
  {
   "cell_type": "code",
   "execution_count": 103,
   "metadata": {},
   "outputs": [
    {
     "data": {
      "text/html": [
       "<table>\n",
       "<thead><tr><th scope=col>Date</th><th scope=col>Season</th><th scope=col>home</th><th scope=col>visitor</th><th scope=col>FT</th><th scope=col>hgoal</th><th scope=col>vgoal</th><th scope=col>division</th><th scope=col>tier</th><th scope=col>totgoal</th><th scope=col>goaldif</th><th scope=col>result</th><th scope=col>match_id</th><th scope=col>home_id</th><th scope=col>away_id</th></tr></thead>\n",
       "<tbody>\n",
       "\t<tr><td>1888-12-15      </td><td>1888            </td><td>Accrington F.C. </td><td>Aston Villa     </td><td>1-1             </td><td>1               </td><td>1               </td><td>1               </td><td>1               </td><td>2               </td><td> 0              </td><td>D               </td><td>1               </td><td>1               </td><td>2               </td></tr>\n",
       "\t<tr><td>1889-01-19      </td><td>1888            </td><td>Accrington F.C. </td><td>Blackburn Rovers</td><td>0-2             </td><td>0               </td><td>2               </td><td>1               </td><td>1               </td><td>2               </td><td>-2              </td><td>A               </td><td>2               </td><td>1               </td><td>3               </td></tr>\n",
       "\t<tr><td>1889-03-23      </td><td>1888            </td><td>Accrington F.C. </td><td>Bolton Wanderers</td><td>2-3             </td><td>2               </td><td>3               </td><td>1               </td><td>1               </td><td>5               </td><td>-1              </td><td>A               </td><td>3               </td><td>1               </td><td>4               </td></tr>\n",
       "\t<tr><td>1888-12-01      </td><td>1888            </td><td>Accrington F.C. </td><td>Burnley         </td><td>5-1             </td><td>5               </td><td>1               </td><td>1               </td><td>1               </td><td>6               </td><td> 4              </td><td>H               </td><td>4               </td><td>1               </td><td>5               </td></tr>\n",
       "\t<tr><td>1888-10-13      </td><td>1888            </td><td>Accrington F.C. </td><td>Derby County    </td><td>6-2             </td><td>6               </td><td>2               </td><td>1               </td><td>1               </td><td>8               </td><td> 4              </td><td>H               </td><td>5               </td><td>1               </td><td>6               </td></tr>\n",
       "</tbody>\n",
       "</table>\n"
      ],
      "text/latex": [
       "\\begin{tabular}{r|lllllllllllllll}\n",
       " Date & Season & home & visitor & FT & hgoal & vgoal & division & tier & totgoal & goaldif & result & match\\_id & home\\_id & away\\_id\\\\\n",
       "\\hline\n",
       "\t 1888-12-15       & 1888             & Accrington F.C.  & Aston Villa      & 1-1              & 1                & 1                & 1                & 1                & 2                &  0               & D                & 1                & 1                & 2               \\\\\n",
       "\t 1889-01-19       & 1888             & Accrington F.C.  & Blackburn Rovers & 0-2              & 0                & 2                & 1                & 1                & 2                & -2               & A                & 2                & 1                & 3               \\\\\n",
       "\t 1889-03-23       & 1888             & Accrington F.C.  & Bolton Wanderers & 2-3              & 2                & 3                & 1                & 1                & 5                & -1               & A                & 3                & 1                & 4               \\\\\n",
       "\t 1888-12-01       & 1888             & Accrington F.C.  & Burnley          & 5-1              & 5                & 1                & 1                & 1                & 6                &  4               & H                & 4                & 1                & 5               \\\\\n",
       "\t 1888-10-13       & 1888             & Accrington F.C.  & Derby County     & 6-2              & 6                & 2                & 1                & 1                & 8                &  4               & H                & 5                & 1                & 6               \\\\\n",
       "\\end{tabular}\n"
      ],
      "text/markdown": [
       "\n",
       "Date | Season | home | visitor | FT | hgoal | vgoal | division | tier | totgoal | goaldif | result | match_id | home_id | away_id | \n",
       "|---|---|---|---|---|\n",
       "| 1888-12-15       | 1888             | Accrington F.C.  | Aston Villa      | 1-1              | 1                | 1                | 1                | 1                | 2                |  0               | D                | 1                | 1                | 2                | \n",
       "| 1889-01-19       | 1888             | Accrington F.C.  | Blackburn Rovers | 0-2              | 0                | 2                | 1                | 1                | 2                | -2               | A                | 2                | 1                | 3                | \n",
       "| 1889-03-23       | 1888             | Accrington F.C.  | Bolton Wanderers | 2-3              | 2                | 3                | 1                | 1                | 5                | -1               | A                | 3                | 1                | 4                | \n",
       "| 1888-12-01       | 1888             | Accrington F.C.  | Burnley          | 5-1              | 5                | 1                | 1                | 1                | 6                |  4               | H                | 4                | 1                | 5                | \n",
       "| 1888-10-13       | 1888             | Accrington F.C.  | Derby County     | 6-2              | 6                | 2                | 1                | 1                | 8                |  4               | H                | 5                | 1                | 6                | \n",
       "\n",
       "\n"
      ],
      "text/plain": [
       "  Date       Season home            visitor          FT  hgoal vgoal division\n",
       "1 1888-12-15 1888   Accrington F.C. Aston Villa      1-1 1     1     1       \n",
       "2 1889-01-19 1888   Accrington F.C. Blackburn Rovers 0-2 0     2     1       \n",
       "3 1889-03-23 1888   Accrington F.C. Bolton Wanderers 2-3 2     3     1       \n",
       "4 1888-12-01 1888   Accrington F.C. Burnley          5-1 5     1     1       \n",
       "5 1888-10-13 1888   Accrington F.C. Derby County     6-2 6     2     1       \n",
       "  tier totgoal goaldif result match_id home_id away_id\n",
       "1 1    2        0      D      1        1       2      \n",
       "2 1    2       -2      A      2        1       3      \n",
       "3 1    5       -1      A      3        1       4      \n",
       "4 1    6        4      H      4        1       5      \n",
       "5 1    8        4      H      5        1       6      "
      ]
     },
     "metadata": {},
     "output_type": "display_data"
    }
   ],
   "source": [
    "# Join the visiting team data\n",
    "epl <- team_list %>% \n",
    "       rename(., visitor = home) %>%\n",
    "       inner_join(epl, ., by = 'visitor') %>% \n",
    "       rename(., home_id = 'team_id.x', away_id = 'team_id.y')\n",
    "\n",
    "# Take a look\n",
    "epl[1:5,]"
   ]
  },
  {
   "cell_type": "code",
   "execution_count": 207,
   "metadata": {},
   "outputs": [],
   "source": [
    "# Input: Team ID \n",
    "# Match level data-set for that team with recovery time attached\n",
    "\n",
    "calculate_recovery_time <- function(team_id, home = 1){\n",
    "  'Input: Team ID\n",
    "   Output: Data-set of team games with recovery time in days'   \n",
    "  \n",
    "  # Depending on whether we want home or away\n",
    "  team_data <- epl %>% \n",
    "              {if(home == 1) \n",
    "              filter(., home_id == team_id) \n",
    "              else \n",
    "              filter(., away_id == team_id)} %>%    \n",
    "              arrange(Date, Season) %>%\n",
    "              group_by(Season) %>%\n",
    "              mutate(\n",
    "                \n",
    "                Date = ymd(Date),\n",
    "                recov_days = as.numeric(Date - lag(Date))\n",
    "           \n",
    "               ) %>%  \n",
    "              ungroup(.)\n",
    "         \n",
    "    # Return statement\n",
    "    return(team_data)\n",
    "}"
   ]
  },
  {
   "cell_type": "code",
   "execution_count": 208,
   "metadata": {},
   "outputs": [],
   "source": [
    "# Now calculate recovery time for home games each team and concatenate\n",
    "home_data <- do.call(rbind, map(team_list$team_id, calculate_recovery_time, home = 1)) "
   ]
  },
  {
   "cell_type": "code",
   "execution_count": 209,
   "metadata": {
    "collapsed": true
   },
   "outputs": [],
   "source": [
    "# ...and now for away games\n",
    "away_data <- do.call(rbind, map(team_list$team_id, calculate_recovery_time, home = 2)) "
   ]
  },
  {
   "cell_type": "code",
   "execution_count": 210,
   "metadata": {},
   "outputs": [
    {
     "data": {
      "text/html": [
       "192004"
      ],
      "text/latex": [
       "192004"
      ],
      "text/markdown": [
       "192004"
      ],
      "text/plain": [
       "[1] 192004"
      ]
     },
     "metadata": {},
     "output_type": "display_data"
    },
    {
     "data": {
      "text/html": [
       "192004"
      ],
      "text/latex": [
       "192004"
      ],
      "text/markdown": [
       "192004"
      ],
      "text/plain": [
       "[1] 192004"
      ]
     },
     "metadata": {},
     "output_type": "display_data"
    },
    {
     "data": {
      "text/html": [
       "<ol class=list-inline>\n",
       "\t<li>'Date'</li>\n",
       "\t<li>'Season'</li>\n",
       "\t<li>'home'</li>\n",
       "\t<li>'visitor'</li>\n",
       "\t<li>'FT'</li>\n",
       "\t<li>'hgoal'</li>\n",
       "\t<li>'vgoal'</li>\n",
       "\t<li>'division'</li>\n",
       "\t<li>'tier'</li>\n",
       "\t<li>'totgoal'</li>\n",
       "\t<li>'goaldif'</li>\n",
       "\t<li>'result'</li>\n",
       "\t<li>'match_id'</li>\n",
       "\t<li>'home_id'</li>\n",
       "\t<li>'away_id'</li>\n",
       "\t<li>'recov_days'</li>\n",
       "</ol>\n"
      ],
      "text/latex": [
       "\\begin{enumerate*}\n",
       "\\item 'Date'\n",
       "\\item 'Season'\n",
       "\\item 'home'\n",
       "\\item 'visitor'\n",
       "\\item 'FT'\n",
       "\\item 'hgoal'\n",
       "\\item 'vgoal'\n",
       "\\item 'division'\n",
       "\\item 'tier'\n",
       "\\item 'totgoal'\n",
       "\\item 'goaldif'\n",
       "\\item 'result'\n",
       "\\item 'match\\_id'\n",
       "\\item 'home\\_id'\n",
       "\\item 'away\\_id'\n",
       "\\item 'recov\\_days'\n",
       "\\end{enumerate*}\n"
      ],
      "text/markdown": [
       "1. 'Date'\n",
       "2. 'Season'\n",
       "3. 'home'\n",
       "4. 'visitor'\n",
       "5. 'FT'\n",
       "6. 'hgoal'\n",
       "7. 'vgoal'\n",
       "8. 'division'\n",
       "9. 'tier'\n",
       "10. 'totgoal'\n",
       "11. 'goaldif'\n",
       "12. 'result'\n",
       "13. 'match_id'\n",
       "14. 'home_id'\n",
       "15. 'away_id'\n",
       "16. 'recov_days'\n",
       "\n",
       "\n"
      ],
      "text/plain": [
       " [1] \"Date\"       \"Season\"     \"home\"       \"visitor\"    \"FT\"        \n",
       " [6] \"hgoal\"      \"vgoal\"      \"division\"   \"tier\"       \"totgoal\"   \n",
       "[11] \"goaldif\"    \"result\"     \"match_id\"   \"home_id\"    \"away_id\"   \n",
       "[16] \"recov_days\""
      ]
     },
     "metadata": {},
     "output_type": "display_data"
    }
   ],
   "source": [
    "# Sanity checks\n",
    "nrow(home_data)\n",
    "nrow(away_data)\n",
    "colnames(recovery_data)\n",
    "\n",
    "# Everything should check out: 192004 rows in each set"
   ]
  },
  {
   "cell_type": "code",
   "execution_count": 215,
   "metadata": {},
   "outputs": [],
   "source": [
    "# Now merge these two data-sets to get recovery times by match for both home and away\n",
    "full_recov_data <- away_data %>% \n",
    "                   select(team_id, match_id, recov_days) %>% \n",
    "                   inner_join(home_data, ., by = 'match_id') %>%\n",
    "                   select(-Date.y) %>%\n",
    "                   rename(home_recov_days = recov_days.x, away_recov_days = recov_days.y)"
   ]
  },
  {
   "cell_type": "code",
   "execution_count": 224,
   "metadata": {},
   "outputs": [],
   "source": [
    "# Create a variable which measures the difference in recovery times\n",
    "full_recov_data <- full_recov_data %>%\n",
    "                   mutate(\n",
    "                   \n",
    "                       recov_day_diff = home_recov_days - away_recov_days,\n",
    "                   \n",
    "                   )"
   ]
  },
  {
   "cell_type": "code",
   "execution_count": 230,
   "metadata": {},
   "outputs": [],
   "source": [
    "# This data-set contains tier 1 games\n",
    "tier_1_games <- full_recov_data %>%\n",
    "                filter(tier == 1)"
   ]
  },
  {
   "cell_type": "code",
   "execution_count": 231,
   "metadata": {},
   "outputs": [
    {
     "data": {
      "text/html": [
       "0.757816116137176"
      ],
      "text/latex": [
       "0.757816116137176"
      ],
      "text/markdown": [
       "0.757816116137176"
      ],
      "text/plain": [
       "[1] 0.7578161"
      ]
     },
     "metadata": {},
     "output_type": "display_data"
    }
   ],
   "source": [
    "# Calculate home advantage using simple average\n",
    "# Only for tier 1 (win + draw %)\n",
    "home_advantage <- tier_1_games %>%  \n",
    "                  filter(result == \"H\"|result == \"D\") %>% \n",
    "                  nrow(.)/nrow(tier_1_games)\n",
    "\n",
    "# This is the home advantage\n",
    "home_advantage"
   ]
  },
  {
   "cell_type": "code",
   "execution_count": 232,
   "metadata": {},
   "outputs": [
    {
     "data": {
      "text/html": [
       "2.05826162144357"
      ],
      "text/latex": [
       "2.05826162144357"
      ],
      "text/markdown": [
       "2.05826162144357"
      ],
      "text/plain": [
       "[1] 2.058262"
      ]
     },
     "metadata": {},
     "output_type": "display_data"
    },
    {
     "data": {
      "text/html": [
       "<ol class=list-inline>\n",
       "\t<li>'Date.x'</li>\n",
       "\t<li>'Season'</li>\n",
       "\t<li>'home'</li>\n",
       "\t<li>'visitor'</li>\n",
       "\t<li>'FT'</li>\n",
       "\t<li>'hgoal'</li>\n",
       "\t<li>'vgoal'</li>\n",
       "\t<li>'division'</li>\n",
       "\t<li>'tier'</li>\n",
       "\t<li>'totgoal'</li>\n",
       "\t<li>'goaldif'</li>\n",
       "\t<li>'result'</li>\n",
       "\t<li>'match_id'</li>\n",
       "\t<li>'home_id'</li>\n",
       "\t<li>'away_id'</li>\n",
       "\t<li>'home_recov_days'</li>\n",
       "\t<li>'away_recov_days'</li>\n",
       "\t<li>'recov_day_diff'</li>\n",
       "</ol>\n"
      ],
      "text/latex": [
       "\\begin{enumerate*}\n",
       "\\item 'Date.x'\n",
       "\\item 'Season'\n",
       "\\item 'home'\n",
       "\\item 'visitor'\n",
       "\\item 'FT'\n",
       "\\item 'hgoal'\n",
       "\\item 'vgoal'\n",
       "\\item 'division'\n",
       "\\item 'tier'\n",
       "\\item 'totgoal'\n",
       "\\item 'goaldif'\n",
       "\\item 'result'\n",
       "\\item 'match\\_id'\n",
       "\\item 'home\\_id'\n",
       "\\item 'away\\_id'\n",
       "\\item 'home\\_recov\\_days'\n",
       "\\item 'away\\_recov\\_days'\n",
       "\\item 'recov\\_day\\_diff'\n",
       "\\end{enumerate*}\n"
      ],
      "text/markdown": [
       "1. 'Date.x'\n",
       "2. 'Season'\n",
       "3. 'home'\n",
       "4. 'visitor'\n",
       "5. 'FT'\n",
       "6. 'hgoal'\n",
       "7. 'vgoal'\n",
       "8. 'division'\n",
       "9. 'tier'\n",
       "10. 'totgoal'\n",
       "11. 'goaldif'\n",
       "12. 'result'\n",
       "13. 'match_id'\n",
       "14. 'home_id'\n",
       "15. 'away_id'\n",
       "16. 'home_recov_days'\n",
       "17. 'away_recov_days'\n",
       "18. 'recov_day_diff'\n",
       "\n",
       "\n"
      ],
      "text/plain": [
       " [1] \"Date.x\"          \"Season\"          \"home\"            \"visitor\"        \n",
       " [5] \"FT\"              \"hgoal\"           \"vgoal\"           \"division\"       \n",
       " [9] \"tier\"            \"totgoal\"         \"goaldif\"         \"result\"         \n",
       "[13] \"match_id\"        \"home_id\"         \"away_id\"         \"home_recov_days\"\n",
       "[17] \"away_recov_days\" \"recov_day_diff\" "
      ]
     },
     "metadata": {},
     "output_type": "display_data"
    }
   ],
   "source": [
    "# Calculate average goal difference scored in home wins\n",
    "home_win_dif <- tier_1_games %>% \n",
    "                filter(result == \"H\") %>%\n",
    "                select(goaldif)\n",
    "\n",
    "# Display\n",
    "sum(home_win_dif)/nrow(home_win_dif)"
   ]
  },
  {
   "cell_type": "code",
   "execution_count": 261,
   "metadata": {},
   "outputs": [
    {
     "data": {
      "text/html": [
       "<ol class=list-inline>\n",
       "\t<li>'Date.x'</li>\n",
       "\t<li>'Season'</li>\n",
       "\t<li>'home'</li>\n",
       "\t<li>'visitor'</li>\n",
       "\t<li>'FT'</li>\n",
       "\t<li>'hgoal'</li>\n",
       "\t<li>'vgoal'</li>\n",
       "\t<li>'division'</li>\n",
       "\t<li>'tier'</li>\n",
       "\t<li>'totgoal'</li>\n",
       "\t<li>'goaldif'</li>\n",
       "\t<li>'result'</li>\n",
       "\t<li>'match_id'</li>\n",
       "\t<li>'home_id'</li>\n",
       "\t<li>'away_id'</li>\n",
       "\t<li>'home_recov_days'</li>\n",
       "\t<li>'away_recov_days'</li>\n",
       "\t<li>'recov_day_diff'</li>\n",
       "</ol>\n"
      ],
      "text/latex": [
       "\\begin{enumerate*}\n",
       "\\item 'Date.x'\n",
       "\\item 'Season'\n",
       "\\item 'home'\n",
       "\\item 'visitor'\n",
       "\\item 'FT'\n",
       "\\item 'hgoal'\n",
       "\\item 'vgoal'\n",
       "\\item 'division'\n",
       "\\item 'tier'\n",
       "\\item 'totgoal'\n",
       "\\item 'goaldif'\n",
       "\\item 'result'\n",
       "\\item 'match\\_id'\n",
       "\\item 'home\\_id'\n",
       "\\item 'away\\_id'\n",
       "\\item 'home\\_recov\\_days'\n",
       "\\item 'away\\_recov\\_days'\n",
       "\\item 'recov\\_day\\_diff'\n",
       "\\end{enumerate*}\n"
      ],
      "text/markdown": [
       "1. 'Date.x'\n",
       "2. 'Season'\n",
       "3. 'home'\n",
       "4. 'visitor'\n",
       "5. 'FT'\n",
       "6. 'hgoal'\n",
       "7. 'vgoal'\n",
       "8. 'division'\n",
       "9. 'tier'\n",
       "10. 'totgoal'\n",
       "11. 'goaldif'\n",
       "12. 'result'\n",
       "13. 'match_id'\n",
       "14. 'home_id'\n",
       "15. 'away_id'\n",
       "16. 'home_recov_days'\n",
       "17. 'away_recov_days'\n",
       "18. 'recov_day_diff'\n",
       "\n",
       "\n"
      ],
      "text/plain": [
       " [1] \"Date.x\"          \"Season\"          \"home\"            \"visitor\"        \n",
       " [5] \"FT\"              \"hgoal\"           \"vgoal\"           \"division\"       \n",
       " [9] \"tier\"            \"totgoal\"         \"goaldif\"         \"result\"         \n",
       "[13] \"match_id\"        \"home_id\"         \"away_id\"         \"home_recov_days\"\n",
       "[17] \"away_recov_days\" \"recov_day_diff\" "
      ]
     },
     "metadata": {},
     "output_type": "display_data"
    }
   ],
   "source": [
    "# Check the column names\n",
    "colnames(tier_1_games)"
   ]
  },
  {
   "cell_type": "code",
   "execution_count": 264,
   "metadata": {},
   "outputs": [
    {
     "name": "stderr",
     "output_type": "stream",
     "text": [
      "Warning message:\n",
      "“Removed 485 rows containing non-finite values (stat_count).”"
     ]
    },
    {
     "data": {},
     "metadata": {},
     "output_type": "display_data"
    },
    {
     "data": {
      "image/png": "[encoded data removed]",
      "text/plain": [
       "plot without title"
      ]
     },
     "metadata": {},
     "output_type": "display_data"
    }
   ],
   "source": [
    "# Plot histogram of recovery day difference\n",
    "ggplot(tier_1_games %>% \n",
    "       filter(Season > 1992)) + \n",
    "       geom_bar(aes(x = recov_day_diff), \n",
    "                    alpha = 0.5, \n",
    "                    fill = 'red', \n",
    "                    color = 'black')"
   ]
  },
  {
   "cell_type": "code",
   "execution_count": 265,
   "metadata": {},
   "outputs": [
    {
     "data": {},
     "metadata": {},
     "output_type": "display_data"
    },
    {
     "data": {
      "image/png": "[encoded data removed]",
      "text/plain": [
       "plot without title"
      ]
     },
     "metadata": {},
     "output_type": "display_data"
    }
   ],
   "source": [
    "# Now plot recovery time \n",
    "ggplot(data = tier_1_games %>% \n",
    "       filter(Season > 1992) %>%\n",
    "       filter(recov_day_diff < 8 & \n",
    "              recov_day_diff > -8 &\n",
    "              recov_day_diff != 0)) +\n",
    "       geom_point(mapping = \n",
    "                    aes(x = as.factor(recov_day_diff), \n",
    "                        y = goaldif), na.rm = TRUE, \n",
    "                        fill = 'red', alpha = 0.5) + \n",
    "       labs(x = \"Difference in recovery days\", \n",
    "            y = \"Goal difference\")"
   ]
  },
  {
   "cell_type": "code",
   "execution_count": 259,
   "metadata": {},
   "outputs": [
    {
     "data": {},
     "metadata": {},
     "output_type": "display_data"
    },
    {
     "data": {
      "image/png": "[encoded data removed]",
      "text/plain": [
       "plot without title"
      ]
     },
     "metadata": {},
     "output_type": "display_data"
    }
   ],
   "source": [
    "# Now plot recovery time \n",
    "ggplot(data = tier_1_games %>% \n",
    "       filter(Season > 1992) %>%\n",
    "       filter(recov_day_diff < 8 & \n",
    "              recov_day_diff > -8)) +\n",
    "       geom_boxplot(mapping = \n",
    "                   aes(x = as.factor(recov_day_diff), \n",
    "                       y = totgoal), na.rm = TRUE) + \n",
    "       labs(x = \"Difference in recovery days\", y = \"Total goals\")"
   ]
  },
  {
   "cell_type": "code",
   "execution_count": 271,
   "metadata": {},
   "outputs": [
    {
     "data": {
      "text/html": [
       "0.0080257370773609"
      ],
      "text/latex": [
       "0.0080257370773609"
      ],
      "text/markdown": [
       "0.0080257370773609"
      ],
      "text/plain": [
       "[1] 0.008025737"
      ]
     },
     "metadata": {},
     "output_type": "display_data"
    }
   ],
   "source": [
    "cor(tier_1_games$recov_day_diff, tier_1_games$goaldif, use = 'complete.obs')"
   ]
  }
 ],
 "metadata": {
  "kernelspec": {
   "display_name": "R",
   "language": "R",
   "name": "ir"
  },
  "language_info": {
   "codemirror_mode": "r",
   "file_extension": ".r",
   "mimetype": "text/x-r-source",
   "name": "R",
   "pygments_lexer": "r",
   "version": "3.4.1"
  }
 },
 "nbformat": 4,
 "nbformat_minor": 2
}
